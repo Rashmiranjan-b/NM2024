{
 "cells": [
  {
   "cell_type": "markdown",
   "id": "4d9aff70",
   "metadata": {},
   "source": [
    "# Find square root of 5 by fixed point iteration"
   ]
  },
  {
   "cell_type": "code",
   "execution_count": 1,
   "id": "ad32df25",
   "metadata": {},
   "outputs": [],
   "source": [
    "def g(x,A):\n",
    "    val=(1/2)*(x+A/x)\n",
    "    return val"
   ]
  },
  {
   "cell_type": "code",
   "execution_count": 2,
   "id": "a98fdf3b",
   "metadata": {},
   "outputs": [],
   "source": [
    "A=5"
   ]
  },
  {
   "cell_type": "code",
   "execution_count": 3,
   "id": "f000af16",
   "metadata": {},
   "outputs": [],
   "source": [
    "x0=1"
   ]
  },
  {
   "cell_type": "code",
   "execution_count": 4,
   "id": "c45945a7",
   "metadata": {},
   "outputs": [
    {
     "name": "stdout",
     "output_type": "stream",
     "text": [
      "3.0\n"
     ]
    }
   ],
   "source": [
    "x1=g(x0,A)\n",
    "print(x1)"
   ]
  },
  {
   "cell_type": "code",
   "execution_count": 5,
   "id": "96ee78c8",
   "metadata": {},
   "outputs": [
    {
     "name": "stdout",
     "output_type": "stream",
     "text": [
      "2.3333333333333335\n"
     ]
    }
   ],
   "source": [
    "x2=g(x1,A)\n",
    "print(x2)"
   ]
  },
  {
   "cell_type": "code",
   "execution_count": 6,
   "id": "1f953381",
   "metadata": {},
   "outputs": [
    {
     "name": "stdout",
     "output_type": "stream",
     "text": [
      "2.238095238095238\n"
     ]
    }
   ],
   "source": [
    "x3=g(x2,A)\n",
    "print(x3)"
   ]
  },
  {
   "cell_type": "code",
   "execution_count": 7,
   "id": "db10341a",
   "metadata": {},
   "outputs": [
    {
     "name": "stdout",
     "output_type": "stream",
     "text": [
      "2.23606797749979\n"
     ]
    }
   ],
   "source": [
    "import numpy\n",
    "print(numpy.sqrt(5))"
   ]
  },
  {
   "cell_type": "markdown",
   "id": "09388e13",
   "metadata": {},
   "source": [
    "# For loop"
   ]
  },
  {
   "cell_type": "code",
   "execution_count": 8,
   "id": "d5f80220",
   "metadata": {},
   "outputs": [
    {
     "name": "stdout",
     "output_type": "stream",
     "text": [
      "0 1 3.0\n",
      "1 3.0 2.3333333333333335\n",
      "2 2.3333333333333335 2.238095238095238\n",
      "3 2.238095238095238 2.2360688956433634\n"
     ]
    }
   ],
   "source": [
    "# Number, whose square root we want to find\n",
    "A=5\n",
    "\n",
    "# Maximum number of steps\n",
    "MaxIter=4\n",
    "\n",
    "# Start with a guess\n",
    "xold=1\n",
    "\n",
    "# Iterate\n",
    "for n in range(MaxIter):\n",
    "    xnew=g(xold,A)\n",
    "    print(n,xold,xnew)\n",
    "    xold=xnew"
   ]
  },
  {
   "cell_type": "code",
   "execution_count": 9,
   "id": "c2546db8",
   "metadata": {},
   "outputs": [
    {
     "name": "stdout",
     "output_type": "stream",
     "text": [
      "    0      1.00000000      3.00000000\n",
      "    1      3.00000000      2.33333333\n",
      "    2      2.33333333      2.23809524\n",
      "    3      2.23809524      2.23606890\n"
     ]
    }
   ],
   "source": [
    "# Number, whose square root we want to find\n",
    "A=5\n",
    "\n",
    "# Maximum number of steps\n",
    "MaxIter=4\n",
    "\n",
    "# Start with a guess\n",
    "xold=1\n",
    "\n",
    "# Iterate\n",
    "for n in range(MaxIter):\n",
    "    xnew=g(xold,A)\n",
    "    fstr = \"{:5d} {:15.8f} {:15.8f}\".format(n, xold, xnew)\n",
    "    print(fstr)\n",
    "    xold=xnew"
   ]
  },
  {
   "cell_type": "code",
   "execution_count": 10,
   "id": "06219da4",
   "metadata": {},
   "outputs": [
    {
     "name": "stdout",
     "output_type": "stream",
     "text": [
      "    0      1.00000000      3.00000000\n",
      "    1      3.00000000      2.33333333\n",
      "    2      2.33333333      2.23809524\n",
      "    3      2.23809524      2.23606890\n"
     ]
    }
   ],
   "source": [
    "# Number, whose square root we want to find\n",
    "A=5\n",
    "\n",
    "# Maximum number of steps\n",
    "MaxIter=4\n",
    "\n",
    "# Start with a guess\n",
    "xold=1\n",
    "\n",
    "# Iterate\n",
    "for n in range(MaxIter):\n",
    "    xnew=g(xold,A)\n",
    "    output = \"{val1:5d} {val2:15.8f} {val3:15.8f}\"\n",
    "    print(output.format(val1=n, val2=xold, val3=xnew))\n",
    "    xold=xnew"
   ]
  },
  {
   "cell_type": "markdown",
   "id": "08bb641a",
   "metadata": {},
   "source": [
    "# Convergence and Error bound"
   ]
  },
  {
   "cell_type": "code",
   "execution_count": 11,
   "id": "762c0fc7",
   "metadata": {},
   "outputs": [
    {
     "name": "stdout",
     "output_type": "stream",
     "text": [
      "    n      x_n             x_(n+1)         |x_n-x^*|      upper-bound\n",
      "    0      1.00000000      3.00000000      1.23606798\n",
      "    1      3.00000000      2.33333333      0.76393202\n",
      "    2      2.33333333      2.23809524      0.09726536      0.11111111\n",
      "    3      2.23809524      2.23606890      0.00202726      0.03703704\n",
      "    4      2.23606890      2.23606798      0.00000092      0.01234568\n",
      "    5      2.23606798      2.23606798      0.00000000      0.00411523\n",
      "    6      2.23606798      2.23606798      0.00000000      0.00137174\n",
      "    7      2.23606798      2.23606798      0.00000000      0.00045725\n",
      "    8      2.23606798      2.23606798      0.00000000      0.00015242\n",
      "    9      2.23606798      2.23606798      0.00000000      0.00005081\n",
      "\n",
      " Error bound estimated using k = 0.3333\n"
     ]
    }
   ],
   "source": [
    "import numpy as np\n",
    "\n",
    "A=5\n",
    "\n",
    "x_exact=np.sqrt(A)\n",
    "\n",
    "b=3\n",
    "a=2\n",
    "\n",
    "MaxIter=10\n",
    "\n",
    "xold=1\n",
    "\n",
    "print('    n      x_n             x_(n+1)         |x_n-x^*|      upper-bound')\n",
    "\n",
    "for n in range(MaxIter):\n",
    "    \n",
    "    xnew=g(xold,A)\n",
    "    \n",
    "    ratio=1\n",
    "    \n",
    "    if n == 0:\n",
    "        x0=xold\n",
    "        x1=xnew\n",
    "        \n",
    "    if n == 1:\n",
    "        x2=xnew\n",
    "        k=np.abs((x2-x1)/(x1-x0))\n",
    "        \n",
    "    error=np.abs(x_exact-xold)\n",
    "    \n",
    "    if n > 1:\n",
    "    \n",
    "        upperbound_error=(b-a)*k**n\n",
    "    \n",
    "        output = \"{val1:5d} {val2:15.8f} {val3:15.8f} {val4:15.8f} {val5:15.8f}\"\n",
    "    \n",
    "        print(output.format(val1=n, val2=xold, val3=xnew, val4=error, val5=upperbound_error))\n",
    "    else:\n",
    "        output = \"{val1:5d} {val2:15.8f} {val3:15.8f} {val4:15.8f}\"\n",
    "    \n",
    "        print(output.format(val1=n, val2=xold, val3=xnew, val4=error))\n",
    "    \n",
    "    xold=xnew\n",
    "    \n",
    "output = \"\\n Error bound estimated using k = {val1:6.4f}\"\n",
    "print(output.format(val1=k))"
   ]
  },
  {
   "cell_type": "markdown",
   "id": "c43a283e",
   "metadata": {},
   "source": [
    "# Grapical solution of $\\exp(-x) + x/5 - 1 = 0$"
   ]
  },
  {
   "cell_type": "markdown",
   "id": "86bd311f",
   "metadata": {},
   "source": [
    "Let's look at the graphical solution by plotting the function $f(x)$ and see where it takes the value zero."
   ]
  },
  {
   "cell_type": "code",
   "execution_count": 12,
   "id": "b81aaafe",
   "metadata": {},
   "outputs": [
    {
     "name": "stderr",
     "output_type": "stream",
     "text": [
      "/var/folders/ph/rspf1gdn68n9z7kh87zq8n9m0000gn/T/ipykernel_27345/3375725278.py:21: UserWarning: color is redundantly defined by the 'color' keyword argument and the fmt string \"b-\" (-> color='b'). The keyword argument will take precedence.\n",
      "  plt.plot(x,y,'b-',color='dodgerblue')\n"
     ]
    },
    {
     "data": {
      "image/png": "[encoded data removed]",
      "text/plain": [
       "<Figure size 640x480 with 1 Axes>"
      ]
     },
     "metadata": {},
     "output_type": "display_data"
    }
   ],
   "source": [
    "import numpy as np\n",
    "import matplotlib.pyplot as plt\n",
    "\n",
    "def f(x):\n",
    "    val=np.exp(-x)+x/5.0-1\n",
    "    return val\n",
    "\n",
    "xmin=-5.0\n",
    "xmax=10.0\n",
    "plt.xlim(xmin, xmax)\n",
    "plt.ylim(-3, 10)\n",
    "\n",
    "x = np.linspace(xmin,xmax,100) \n",
    "N=x.size\n",
    "y=np.zeros(N)\n",
    "\n",
    "for i in range(N):\n",
    "    y[i]=f(x[i])\n",
    "\n",
    "plt.plot(x,x*0,'k-')\n",
    "plt.plot(x,y,'b-',color='dodgerblue')\n",
    "plt.grid()\n",
    "plt.savefig('WienFunction.png')\n",
    "plt.show()"
   ]
  },
  {
   "cell_type": "markdown",
   "id": "2e7ba22f",
   "metadata": {},
   "source": [
    "There are two roots for this equation. One at 0.0 and another near 5.0."
   ]
  },
  {
   "cell_type": "markdown",
   "id": "82168fb8",
   "metadata": {},
   "source": [
    "# Cobweb diagram for $g_1(x)=5\\left[ 1- \\exp(-x) \\right]$"
   ]
  },
  {
   "cell_type": "code",
   "execution_count": 13,
   "id": "2e38bffc",
   "metadata": {},
   "outputs": [],
   "source": [
    "def g_fn(x):\n",
    "    val=5*(1-np.exp(-x))\n",
    "    return val\n",
    "\n",
    "N=15\n",
    "x=np.zeros(N,float)\n",
    "g=np.zeros(N,float)\n",
    "\n",
    "x0=1.5 \n",
    "\n",
    "Ni=10\n",
    "for i in range(0,Ni):\n",
    "    x[i]=x0\n",
    "    g[i]=g_fn(x0)\n",
    "    x0=g[i]  "
   ]
  },
  {
   "cell_type": "code",
   "execution_count": 14,
   "id": "85c934d6",
   "metadata": {},
   "outputs": [
    {
     "data": {
      "image/png": "[encoded data removed]",
      "text/plain": [
       "<Figure size 640x480 with 1 Axes>"
      ]
     },
     "metadata": {},
     "output_type": "display_data"
    }
   ],
   "source": [
    "import numpy as np\n",
    "import matplotlib.pyplot as plt\n",
    "\n",
    "fig = plt.figure()                        # comment if square plot is not needed\n",
    "ax = fig.add_subplot(111)                 # comment if square plot is not needed\n",
    "\n",
    "plt.xlim(0, 10)\n",
    "plt.ylim(0, 10)\n",
    "\n",
    "x_grids = np.linspace(0,10,100) \n",
    "N=x_grids.size\n",
    "g_grids=np.zeros(N)\n",
    "\n",
    "for i in range(N):\n",
    "    g_grids[i]=g_fn(x_grids[i])\n",
    "\n",
    "plt.plot(x_grids,x_grids,'k-',label='x')\n",
    "plt.plot(x_grids,g_grids,label='g(x)',color='dodgerblue')\n",
    "\n",
    "xval=[x[0],x[0]]\n",
    "gval=[x[0],g[0]]\n",
    "plt.plot(xval,gval)\n",
    "\n",
    "plt.grid()\n",
    "\n",
    "for i in range(0,6):\n",
    "\n",
    "    # horizontal line, same y-value\n",
    "    xval=[x[i],g[i]]\n",
    "    gval=[g[i],g[i]]\n",
    "    plt.plot(xval,gval)\n",
    "\n",
    "    # vertical line, same x-value      \n",
    "    xval=[g[i],x[i+1]]\n",
    "    gval=[g[i],g[i+1]]\n",
    "    plt.plot(xval,gval)\n",
    "\n",
    "ax.set_aspect('equal', adjustable='box')  # comment if square plot is not needed\n",
    "\n",
    "plt.title('Cobweb diagram for $x=5[ 1- \\exp(-x)]$')\n",
    "plt.legend()\n",
    "plt.savefig('cobweb.png')\n",
    "plt.show()"
   ]
  },
  {
   "cell_type": "code",
   "execution_count": null,
   "id": "d8e69996",
   "metadata": {},
   "outputs": [],
   "source": []
  }
 ],
 "metadata": {
  "kernelspec": {
   "display_name": "Python 3 (ipykernel)",
   "language": "python",
   "name": "python3"
  },
  "language_info": {
   "codemirror_mode": {
    "name": "ipython",
    "version": 3
   },
   "file_extension": ".py",
   "mimetype": "text/x-python",
   "name": "python",
   "nbconvert_exporter": "python",
   "pygments_lexer": "ipython3",
   "version": "3.9.13"
  }
 },
 "nbformat": 4,
 "nbformat_minor": 5
}
