{
 "cells": [
  {
   "cell_type": "code",
   "execution_count": 1,
   "id": "65833ed5",
   "metadata": {},
   "outputs": [],
   "source": [
    "import numpy as np"
   ]
  },
  {
   "cell_type": "code",
   "execution_count": 2,
   "id": "90f42853",
   "metadata": {},
   "outputs": [],
   "source": [
    "a=[1,3,2,0,4,5,6,3]\n",
    "a=np.array(a)"
   ]
  },
  {
   "cell_type": "markdown",
   "id": "eed9ff55",
   "metadata": {},
   "source": [
    "# Basic Operations"
   ]
  },
  {
   "cell_type": "code",
   "execution_count": 3,
   "id": "179d4dd6",
   "metadata": {},
   "outputs": [
    {
     "name": "stdout",
     "output_type": "stream",
     "text": [
      "    24.00000000\n",
      "     6.00000000      0.00000000\n",
      "     3.00000000      3.00000000      1.87082869      3.50000000\n"
     ]
    }
   ],
   "source": [
    "sum_a = np.sum(a)\n",
    "max_a = np.amax(a)\n",
    "min_a = np.amin(a)\n",
    "mean_a = np.mean(a)\n",
    "median_a = np.median(a)\n",
    "std_a = np.std(a)\n",
    "var_a = np.var(a)\n",
    "\n",
    "fstr = \"{:15.8f}\".format(sum_a)\n",
    "print(fstr)\n",
    "\n",
    "fstr = \"{:15.8f} {:15.8f}\".format(max_a, min_a)\n",
    "print(fstr)\n",
    "\n",
    "fstr = \"{:15.8f} {:15.8f} {:15.8f} {:15.8f}\".format(mean_a, median_a, std_a, var_a)\n",
    "print(fstr)"
   ]
  },
  {
   "cell_type": "markdown",
   "id": "55e4a955",
   "metadata": {},
   "source": [
    "# Indexing and Sorting"
   ]
  },
  {
   "cell_type": "code",
   "execution_count": 4,
   "id": "3bb4834a",
   "metadata": {},
   "outputs": [
    {
     "name": "stdout",
     "output_type": "stream",
     "text": [
      "     6.00000000      3.00000000\n"
     ]
    }
   ],
   "source": [
    "max_ind = np.argmax(a, axis=0)\n",
    "min_ind = np.argmin(a, axis=0)\n",
    "\n",
    "fstr = \"{:15.8f} {:15.8f}\".format(max_ind, min_ind)\n",
    "print(fstr)"
   ]
  },
  {
   "cell_type": "code",
   "execution_count": 5,
   "id": "cd3b06f0",
   "metadata": {},
   "outputs": [
    {
     "name": "stdout",
     "output_type": "stream",
     "text": [
      "[3 0 2 1 7 4 5 6] [6 5 4 7 1 2 0 3]\n"
     ]
    }
   ],
   "source": [
    "sorted_ind_incr = np.argsort(a)\n",
    "sorted_ind_decr = np.argsort(a)[::-1]\n",
    "\n",
    "print(sorted_ind_incr, sorted_ind_decr)"
   ]
  },
  {
   "cell_type": "markdown",
   "id": "78e7fa8b",
   "metadata": {},
   "source": [
    "# Finding Elements"
   ]
  },
  {
   "cell_type": "code",
   "execution_count": 6,
   "id": "8f60448c",
   "metadata": {},
   "outputs": [
    {
     "name": "stdout",
     "output_type": "stream",
     "text": [
      "(array([4, 5, 6]),) (array([0, 1, 2, 4, 5, 6, 7]),)\n"
     ]
    }
   ],
   "source": [
    "condition_ind = np.where(a>3)\n",
    "non_zero_ind = np.nonzero(a)\n",
    "\n",
    "print(condition_ind,non_zero_ind)"
   ]
  },
  {
   "cell_type": "markdown",
   "id": "a5d3b42d",
   "metadata": {},
   "source": [
    "# Reshaping and Manipulation"
   ]
  },
  {
   "cell_type": "code",
   "execution_count": 7,
   "id": "8b53ecca",
   "metadata": {},
   "outputs": [
    {
     "name": "stdout",
     "output_type": "stream",
     "text": [
      "[[1 4 7]\n",
      " [2 5 8]\n",
      " [3 6 9]]\n"
     ]
    }
   ],
   "source": [
    "A = np.array([[1, 2, 3], [4, 5, 6], [7, 8, 9]])\n",
    "A_transpose = np.transpose(A)\n",
    "print(A_transpose)"
   ]
  },
  {
   "cell_type": "code",
   "execution_count": 8,
   "id": "b5234f89",
   "metadata": {},
   "outputs": [
    {
     "name": "stdout",
     "output_type": "stream",
     "text": [
      "[1 3 2 0 4 5 6 3]\n",
      "[[1 3 2 0]\n",
      " [4 5 6 3]]\n"
     ]
    }
   ],
   "source": [
    "rows, columns = 2, 4\n",
    "reshaped_a = np.reshape(a, (rows, columns))\n",
    "print(a)\n",
    "print(reshaped_a)"
   ]
  },
  {
   "cell_type": "code",
   "execution_count": 9,
   "id": "f0b6ef6a",
   "metadata": {},
   "outputs": [
    {
     "name": "stdout",
     "output_type": "stream",
     "text": [
      "[1 2 3 2 3 4 0]\n"
     ]
    }
   ],
   "source": [
    "array1 = np.array([1, 2, 3])\n",
    "array2 = np.array([2, 3, 4, 0])\n",
    "\n",
    "concatenated_arrays = np.concatenate([array1, array2], axis=0)\n",
    "print(concatenated_arrays)"
   ]
  },
  {
   "cell_type": "code",
   "execution_count": 10,
   "id": "83bc92dd",
   "metadata": {},
   "outputs": [
    {
     "name": "stdout",
     "output_type": "stream",
     "text": [
      "[array([1, 3, 2, 0]), array([4, 5, 6, 3])]\n"
     ]
    }
   ],
   "source": [
    "sub_arrays = np.split(a, 2)  # Split into 2 equal parts\n",
    "print(sub_arrays)"
   ]
  },
  {
   "cell_type": "markdown",
   "id": "7545ed7c",
   "metadata": {},
   "source": [
    "# Matrix Operations"
   ]
  },
  {
   "cell_type": "code",
   "execution_count": 11,
   "id": "a9f1056d",
   "metadata": {},
   "outputs": [
    {
     "name": "stdout",
     "output_type": "stream",
     "text": [
      "[1 5 9]\n",
      "15\n",
      "[[22 15 15]\n",
      " [46 42 36]\n",
      " [70 69 57]]\n"
     ]
    }
   ],
   "source": [
    "diagonal_elements = np.diagonal(A)\n",
    "print(diagonal_elements)\n",
    "\n",
    "trace_A = np.trace(A)\n",
    "print(trace_A)\n",
    "\n",
    "B = np.array([[1, 5, 0], [0, 2, 6], [7, 2, 1]])\n",
    "\n",
    "AtimesB = np.dot(A, B)\n",
    "print(AtimesB)\n"
   ]
  },
  {
   "cell_type": "markdown",
   "id": "60744c5c",
   "metadata": {},
   "source": [
    "# Creating Arrays"
   ]
  },
  {
   "cell_type": "code",
   "execution_count": 12,
   "id": "174b543b",
   "metadata": {},
   "outputs": [
    {
     "name": "stdout",
     "output_type": "stream",
     "text": [
      "[0.         0.11111111 0.22222222 0.33333333 0.44444444 0.55555556\n",
      " 0.66666667 0.77777778 0.88888889 1.        ]\n",
      "[0.  0.1 0.2 0.3 0.4 0.5 0.6 0.7 0.8 0.9]\n"
     ]
    }
   ],
   "source": [
    "start, stop, num_points = 0, 1, 10\n",
    "\n",
    "evenly_spaced_values = np.linspace(start, stop, num_points)\n",
    "print(evenly_spaced_values)\n",
    "\n",
    "step = 0.1\n",
    "\n",
    "step_values = np.arange(start, stop, step)\n",
    "print(step_values)"
   ]
  },
  {
   "cell_type": "markdown",
   "id": "6500dd69",
   "metadata": {},
   "source": [
    "# Random Values"
   ]
  },
  {
   "cell_type": "code",
   "execution_count": 13,
   "id": "40537aa4",
   "metadata": {},
   "outputs": [
    {
     "name": "stdout",
     "output_type": "stream",
     "text": [
      "[[0.73908834 0.54620019 0.99370087 0.02661478 0.36678185]\n",
      " [0.66263989 0.43170911 0.0099736  0.93107488 0.5657724 ]\n",
      " [0.94774808 0.71843446 0.44667832 0.91418218 0.46781264]\n",
      " [0.82600642 0.83822762 0.63100035 0.97272971 0.85262239]\n",
      " [0.2880084  0.49634573 0.38038047 0.16989366 0.80525861]]\n"
     ]
    }
   ],
   "source": [
    "random_uniform = np.random.rand(5, 5)  # 5x5 array of random values [0, 1)\n",
    "print(random_uniform)"
   ]
  },
  {
   "cell_type": "code",
   "execution_count": 14,
   "id": "b8cf49a6",
   "metadata": {},
   "outputs": [
    {
     "name": "stdout",
     "output_type": "stream",
     "text": [
      "[[ 2.08821838  1.1228885   0.67657747 -1.4563589  -1.19255518]\n",
      " [ 0.05505173 -0.43632741  0.38188656  1.05021421 -0.26251961]\n",
      " [ 0.23716185  0.66440537 -1.75806472 -0.97838477 -1.82932643]\n",
      " [-0.15270644 -0.81599204 -0.98639555  0.82662991 -0.21141442]\n",
      " [ 0.6014964   1.57567143  0.24671443  0.01638271  0.9372587 ]]\n"
     ]
    }
   ],
   "source": [
    "random_normal = np.random.randn(5, 5)  # 5x5 array of random values from standard normal distribution\n",
    "print(random_normal)"
   ]
  },
  {
   "cell_type": "markdown",
   "id": "68e8b431",
   "metadata": {},
   "source": [
    "# Miscellaneous"
   ]
  },
  {
   "cell_type": "code",
   "execution_count": 15,
   "id": "ce0c53ca",
   "metadata": {},
   "outputs": [
    {
     "name": "stdout",
     "output_type": "stream",
     "text": [
      "[1 3 2 0 4 5 6 3]\n",
      "[2 3 2 2 4 5 5 3]\n"
     ]
    }
   ],
   "source": [
    "a=[1,3,2,0,4,5,6,3]\n",
    "a=np.array(a)\n",
    "\n",
    "min_val = 2\n",
    "max_val = 5\n",
    "clipped_array = np.clip(a, min_val, max_val) #  Clip (limit) the values in an array.\n",
    "\n",
    "print(a)\n",
    "print(clipped_array)"
   ]
  },
  {
   "cell_type": "markdown",
   "id": "a5ac130b",
   "metadata": {},
   "source": [
    "Values less than `min_val` are set to `min_val` and values greater than `max_val` are set to `max_val`."
   ]
  },
  {
   "cell_type": "code",
   "execution_count": 16,
   "id": "81855b8b",
   "metadata": {},
   "outputs": [
    {
     "name": "stdout",
     "output_type": "stream",
     "text": [
      "[2 3]\n"
     ]
    }
   ],
   "source": [
    "array1 = np.array([1, 2, 3])\n",
    "array2 = np.array([2, 3, 4, 0])\n",
    "\n",
    "intersection = np.intersect1d(array1, array2)\n",
    "print(intersection)"
   ]
  },
  {
   "cell_type": "code",
   "execution_count": 17,
   "id": "b5f66871",
   "metadata": {},
   "outputs": [
    {
     "name": "stdout",
     "output_type": "stream",
     "text": [
      "[0 1 2 3 4]\n"
     ]
    }
   ],
   "source": [
    "array1 = np.array([1, 2, 3])\n",
    "array2 = np.array([2, 3, 4, 0])\n",
    "\n",
    "union = np.union1d(array1, array2)\n",
    "print(union)"
   ]
  },
  {
   "cell_type": "code",
   "execution_count": 18,
   "id": "3a0b39ff",
   "metadata": {},
   "outputs": [
    {
     "name": "stdout",
     "output_type": "stream",
     "text": [
      "[0 1 2 3 4 5 6] [1 1 1 2 1 1 1]\n"
     ]
    }
   ],
   "source": [
    "unique_values, counts = np.unique(a, return_counts=True)\n",
    "print(unique_values, counts)"
   ]
  }
 ],
 "metadata": {
  "kernelspec": {
   "display_name": "Python 3 (ipykernel)",
   "language": "python",
   "name": "python3"
  },
  "language_info": {
   "codemirror_mode": {
    "name": "ipython",
    "version": 3
   },
   "file_extension": ".py",
   "mimetype": "text/x-python",
   "name": "python",
   "nbconvert_exporter": "python",
   "pygments_lexer": "ipython3",
   "version": "3.9.13"
  }
 },
 "nbformat": 4,
 "nbformat_minor": 5
}
