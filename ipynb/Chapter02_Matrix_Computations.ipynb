{
 "cells": [
  {
   "cell_type": "code",
   "execution_count": 1,
   "id": "240c87dc",
   "metadata": {},
   "outputs": [],
   "source": [
    "import numpy as np"
   ]
  },
  {
   "cell_type": "markdown",
   "id": "88ed5e1c",
   "metadata": {},
   "source": [
    "# Simple exercises with matrices"
   ]
  },
  {
   "cell_type": "code",
   "execution_count": 2,
   "id": "a2d6e6e8",
   "metadata": {},
   "outputs": [
    {
     "name": "stdout",
     "output_type": "stream",
     "text": [
      "[[ 2  3]\n",
      " [ 1 -1]]\n"
     ]
    }
   ],
   "source": [
    "A=np.array([[2,3],[1,-1]])\n",
    "print(A)"
   ]
  },
  {
   "cell_type": "markdown",
   "id": "aeb10c84",
   "metadata": {},
   "source": [
    "## Read and write from a file"
   ]
  },
  {
   "cell_type": "markdown",
   "id": "e061c84c",
   "metadata": {},
   "source": [
    "### As text files"
   ]
  },
  {
   "cell_type": "code",
   "execution_count": 3,
   "id": "a4695aa3",
   "metadata": {},
   "outputs": [],
   "source": [
    "def write_matrix_to_file(matrix, filename):\n",
    "    \n",
    "    #This function don't necessarily have to include a return statement \n",
    "    \n",
    "    with open(filename, 'w') as file:\n",
    "        \n",
    "        for row in matrix:\n",
    "            \n",
    "            row_str = ' '.join(map(str, row))\n",
    "            file.write(row_str + '\\n')\n",
    "\n",
    "write_matrix_to_file(A, 'matrixA.txt')"
   ]
  },
  {
   "cell_type": "markdown",
   "id": "609141e6",
   "metadata": {},
   "source": [
    "We have used the map function which applies a specified function to all items in an iterable (e.g., a list, tuple, or other iterable) and returns an iterable map object."
   ]
  },
  {
   "cell_type": "code",
   "execution_count": 4,
   "id": "69b12efc",
   "metadata": {},
   "outputs": [
    {
     "name": "stdout",
     "output_type": "stream",
     "text": [
      "[1, 4, 9, 16, 25]\n"
     ]
    }
   ],
   "source": [
    "A = [1, 2, 3, 4, 5]\n",
    "\n",
    "Asqr = map(lambda x: x**2, A) # lambda function, one-liner\n",
    "\n",
    "Asqr = list(Asqr)\n",
    "\n",
    "print(Asqr)"
   ]
  },
  {
   "cell_type": "code",
   "execution_count": 5,
   "id": "f5162a36",
   "metadata": {},
   "outputs": [
    {
     "name": "stdout",
     "output_type": "stream",
     "text": [
      "[[ 2  3]\n",
      " [ 1 -1]]\n"
     ]
    }
   ],
   "source": [
    "def read_matrix_from_file(filename):\n",
    "    \n",
    "    import numpy as np\n",
    "    \n",
    "    matrix = []\n",
    "    \n",
    "    with open(filename, 'r') as file:\n",
    "        \n",
    "        for line in file:\n",
    "            \n",
    "            row = list(map(int, line.strip().split()))\n",
    "            matrix.append(row)\n",
    "            \n",
    "    matrix=np.array(matrix)\n",
    "    \n",
    "    return matrix\n",
    "\n",
    "B = read_matrix_from_file('matrixA.txt')\n",
    "print(B)"
   ]
  },
  {
   "cell_type": "markdown",
   "id": "b1ead10f",
   "metadata": {},
   "source": [
    "### Numpy files"
   ]
  },
  {
   "cell_type": "code",
   "execution_count": 6,
   "id": "d6ecf97e",
   "metadata": {},
   "outputs": [
    {
     "name": "stdout",
     "output_type": "stream",
     "text": [
      "[1 2 3 4 5]\n"
     ]
    }
   ],
   "source": [
    "np.save('matrixA.npy', A)\n",
    "\n",
    "B = np.load('matrixA.npy')\n",
    "print(B)"
   ]
  },
  {
   "cell_type": "markdown",
   "id": "03cfa205",
   "metadata": {},
   "source": [
    "# Matrix addition/subtraction, scalar multiplication"
   ]
  },
  {
   "cell_type": "code",
   "execution_count": 7,
   "id": "664bee35",
   "metadata": {},
   "outputs": [],
   "source": [
    "A=np.array([[2,-1.5],[3,7]])\n",
    "B=np.array([[1,-1],[2,-1]])"
   ]
  },
  {
   "cell_type": "markdown",
   "id": "69cf013a",
   "metadata": {},
   "source": [
    "### Matrix addition as a vector operation on numpy arrays"
   ]
  },
  {
   "cell_type": "code",
   "execution_count": 8,
   "id": "ef5b76d4",
   "metadata": {},
   "outputs": [
    {
     "data": {
      "text/plain": [
       "array([[ 3. , -2.5],\n",
       "       [ 5. ,  6. ]])"
      ]
     },
     "execution_count": 8,
     "metadata": {},
     "output_type": "execute_result"
    }
   ],
   "source": [
    "A+B"
   ]
  },
  {
   "cell_type": "code",
   "execution_count": 9,
   "id": "29e9896c",
   "metadata": {},
   "outputs": [
    {
     "data": {
      "text/plain": [
       "array([[ 3. , -2.5],\n",
       "       [ 5. ,  6. ]])"
      ]
     },
     "execution_count": 9,
     "metadata": {},
     "output_type": "execute_result"
    }
   ],
   "source": [
    "C=A+B\n",
    "C"
   ]
  },
  {
   "cell_type": "markdown",
   "id": "201cccb5",
   "metadata": {},
   "source": [
    "### numpy `add` function"
   ]
  },
  {
   "cell_type": "code",
   "execution_count": 10,
   "id": "2e14297f",
   "metadata": {},
   "outputs": [
    {
     "data": {
      "text/plain": [
       "array([[ 3. , -2.5],\n",
       "       [ 5. ,  6. ]])"
      ]
     },
     "execution_count": 10,
     "metadata": {},
     "output_type": "execute_result"
    }
   ],
   "source": [
    "np.add(A,B)"
   ]
  },
  {
   "cell_type": "code",
   "execution_count": 11,
   "id": "f9c4b406",
   "metadata": {},
   "outputs": [
    {
     "data": {
      "text/plain": [
       "(2, 2)"
      ]
     },
     "execution_count": 11,
     "metadata": {},
     "output_type": "execute_result"
    }
   ],
   "source": [
    "np.shape(A)"
   ]
  },
  {
   "cell_type": "code",
   "execution_count": 12,
   "id": "660ad9b9",
   "metadata": {},
   "outputs": [],
   "source": [
    "def add_matrices(A, B):\n",
    "    \n",
    "    # Check if matrices have the same dimensions\n",
    "    if np.shape(A) != np.shape(B):\n",
    "        raise ValueError(\"Matrices must have the same dimensions for addition.\")\n",
    "\n",
    "    N_rows=np.shape(A)[0]\n",
    "    N_cols=np.shape(A)[1]\n",
    "    \n",
    "    # Initialize C-vector with zero\n",
    "    C=np.zeros((N_rows,N_cols))\n",
    "    \n",
    "    # Perform element-wise addition\n",
    "    for i in range(N_rows):\n",
    "        for j in range(N_cols):\n",
    "            C[i][j] = A[i][j] + B[i][j]\n",
    "\n",
    "    return C"
   ]
  },
  {
   "cell_type": "code",
   "execution_count": 13,
   "id": "fd343b52",
   "metadata": {},
   "outputs": [
    {
     "data": {
      "text/plain": [
       "array([[ 3. , -2.5],\n",
       "       [ 5. ,  6. ]])"
      ]
     },
     "execution_count": 13,
     "metadata": {},
     "output_type": "execute_result"
    }
   ],
   "source": [
    "C=add_matrices(A, B)\n",
    "C"
   ]
  },
  {
   "cell_type": "code",
   "execution_count": 14,
   "id": "673f7f91",
   "metadata": {},
   "outputs": [
    {
     "data": {
      "text/plain": [
       "array([[ 1. , -0.5],\n",
       "       [ 1. ,  8. ]])"
      ]
     },
     "execution_count": 14,
     "metadata": {},
     "output_type": "execute_result"
    }
   ],
   "source": [
    "D=A-B\n",
    "D"
   ]
  },
  {
   "cell_type": "code",
   "execution_count": 15,
   "id": "17126815",
   "metadata": {},
   "outputs": [
    {
     "data": {
      "text/plain": [
       "array([[ 0.2 , -0.15],\n",
       "       [ 0.3 ,  0.7 ]])"
      ]
     },
     "execution_count": 15,
     "metadata": {},
     "output_type": "execute_result"
    }
   ],
   "source": [
    "t=0.1\n",
    "E=t*A\n",
    "E"
   ]
  },
  {
   "cell_type": "markdown",
   "id": "1844f860",
   "metadata": {},
   "source": [
    "# Special matrices for initialization"
   ]
  },
  {
   "cell_type": "code",
   "execution_count": 16,
   "id": "98a5132c",
   "metadata": {},
   "outputs": [
    {
     "name": "stdout",
     "output_type": "stream",
     "text": [
      "1. Identity matrix:\n",
      "[[1. 0. 0.]\n",
      " [0. 1. 0.]\n",
      " [0. 0. 1.]]\n",
      "\n",
      "2. Zero matrix:\n",
      "[[0. 0. 0.]\n",
      " [0. 0. 0.]]\n",
      "\n",
      "3. Ones matrix:\n",
      "[[1. 1.]\n",
      " [1. 1.]\n",
      " [1. 1.]]\n",
      "\n",
      "4. Diagonal matrix:\n",
      "[[1 0 0]\n",
      " [0 2 0]\n",
      " [0 0 3]]\n",
      "\n",
      "5. Random matrix:\n",
      "[[0.22371414 0.3424747 ]\n",
      " [0.19533369 0.00235501]]\n",
      "\n",
      "6. Full matrix:\n",
      "[[7 7 7]\n",
      " [7 7 7]]\n",
      "\n",
      "7. Toeplitz matrix:\n",
      "[[1 2 3]\n",
      " [2 1 2]\n",
      " [3 2 1]]\n"
     ]
    }
   ],
   "source": [
    "import numpy as np\n",
    "from scipy.linalg import toeplitz\n",
    "\n",
    "# 1. Identity Matrix\n",
    "identity_matrix = np.eye(3)\n",
    "print(\"1. Identity matrix:\")\n",
    "print(identity_matrix)\n",
    "\n",
    "# 2. Zero Matrix\n",
    "zero_matrix = np.zeros((2, 3))\n",
    "print(\"\\n2. Zero matrix:\")\n",
    "print(zero_matrix)\n",
    "\n",
    "# 3. Ones Matrix\n",
    "ones_matrix = np.ones((3, 2))\n",
    "print(\"\\n3. Ones matrix:\")\n",
    "print(ones_matrix)\n",
    "\n",
    "# 4. Diagonal Matrix\n",
    "diagonal_matrix = np.diag([1, 2, 3])\n",
    "print(\"\\n4. Diagonal matrix:\")\n",
    "print(diagonal_matrix)\n",
    "\n",
    "# 5. Random Matrix\n",
    "random_matrix = np.random.rand(2, 2)\n",
    "print(\"\\n5. Random matrix:\")\n",
    "print(random_matrix)\n",
    "\n",
    "# 6. Full Matrix\n",
    "full_matrix = np.full((2, 3), 7)\n",
    "print(\"\\n6. Full matrix:\")\n",
    "print(full_matrix)\n",
    "\n",
    "# 7. Toeplitz Matrix (a square Toeplitz matrix is circulant)\n",
    "first_row = [1, 2, 3]\n",
    "toeplitz_matrix = toeplitz(first_row)\n",
    "print(\"\\n7. Toeplitz matrix:\")\n",
    "print(toeplitz_matrix)\n"
   ]
  },
  {
   "cell_type": "markdown",
   "id": "f1fbb8d5",
   "metadata": {},
   "source": [
    "# Matrix-vector multiplication"
   ]
  },
  {
   "cell_type": "code",
   "execution_count": 17,
   "id": "900c4541",
   "metadata": {},
   "outputs": [
    {
     "name": "stdout",
     "output_type": "stream",
     "text": [
      "Result using numpy.dot function:\n",
      "[20 47 74]\n",
      "\n",
      "Result using @ operator:\n",
      "[20 47 74]\n"
     ]
    }
   ],
   "source": [
    "import numpy as np\n",
    "\n",
    "A = np.array([[1, 2, 3], [4, 5, 6], [7, 8, 9]])\n",
    "\n",
    "x = np.array([2, 3, 4])\n",
    "\n",
    "# Matrix-vector multiplication using numpy.dot function\n",
    "b = np.dot(A, x)\n",
    "\n",
    "print(\"Result using numpy.dot function:\")\n",
    "print(b)\n",
    "\n",
    "# Matrix-vector multiplication using @ operator (equivalent to numpy.dot)\n",
    "b = A @ x\n",
    "\n",
    "print(\"\\nResult using @ operator:\")\n",
    "print(b)"
   ]
  },
  {
   "cell_type": "code",
   "execution_count": 18,
   "id": "744226d6",
   "metadata": {},
   "outputs": [],
   "source": [
    "def matvec(A, x):\n",
    "    \n",
    "    if np.shape(A)[1] != len(x):\n",
    "        raise ValueError(\"Matrix and vector are not conformable\")\n",
    "\n",
    "    # Perform element-wise addition\n",
    "    N_rows=np.shape(A)[0]\n",
    "    N_cols=np.shape(A)[1]\n",
    "    \n",
    "    b=np.zeros((N_rows))\n",
    "    \n",
    "    for i in range(N_rows):\n",
    "        \n",
    "        # b[i]=0\n",
    "        # for j in range(N_cols):\n",
    "        #    b[i] = b[i] + A[i][j] * x[j]\n",
    "        \n",
    "        b[i]=np.dot(A[i][:],x[:])\n",
    "\n",
    "    return b"
   ]
  },
  {
   "cell_type": "code",
   "execution_count": 19,
   "id": "dc50de24",
   "metadata": {},
   "outputs": [
    {
     "data": {
      "text/plain": [
       "array([20., 47., 74.])"
      ]
     },
     "execution_count": 19,
     "metadata": {},
     "output_type": "execute_result"
    }
   ],
   "source": [
    "b=matvec(A,x)\n",
    "b"
   ]
  },
  {
   "cell_type": "code",
   "execution_count": 20,
   "id": "6137e25c",
   "metadata": {},
   "outputs": [],
   "source": [
    "def matvec2(A, x):\n",
    "    # as a linear combination of columns of A\n",
    "    \n",
    "    if np.shape(A)[1] != len(x):\n",
    "        raise ValueError(\"Matrix and vector are not conformable\")\n",
    "\n",
    "    # Perform element-wise addition\n",
    "    N_rows=np.shape(A)[0]\n",
    "    N_cols=np.shape(A)[1]\n",
    "    \n",
    "    b=np.zeros((N_rows))\n",
    "\n",
    "    for j in range(N_cols):\n",
    "        b = b + A[:][j] * x[j]\n",
    "\n",
    "    return b"
   ]
  },
  {
   "cell_type": "code",
   "execution_count": 21,
   "id": "00b0ef0f",
   "metadata": {},
   "outputs": [
    {
     "data": {
      "text/plain": [
       "array([20., 47., 74.])"
      ]
     },
     "execution_count": 21,
     "metadata": {},
     "output_type": "execute_result"
    }
   ],
   "source": [
    "b=matvec(A,x)\n",
    "b"
   ]
  },
  {
   "cell_type": "markdown",
   "id": "fdaba4bb",
   "metadata": {},
   "source": [
    "# Matrix-matrix multiplication"
   ]
  },
  {
   "cell_type": "code",
   "execution_count": 22,
   "id": "83a30120",
   "metadata": {},
   "outputs": [
    {
     "name": "stdout",
     "output_type": "stream",
     "text": [
      "AB:\n",
      "[[ 4 -2]\n",
      " [-1 -6]]\n",
      "BA:\n",
      "[[ 1  8  1]\n",
      " [ 0 -6  2]\n",
      " [ 1  2  3]]\n"
     ]
    }
   ],
   "source": [
    "def matrix_multiply(A, B):\n",
    "    \n",
    "    # Check conformability\n",
    "    if A.shape[1] != B.shape[0]:\n",
    "        raise ValueError(\"Matrices are not conformable for multiplication.\")\n",
    "\n",
    "    # Perform matrix-matrix multiplication\n",
    "    C = np.dot(A, B)\n",
    "\n",
    "    return C\n",
    "\n",
    "A = np.array([[1,2,3],[0,3,-1]])\n",
    "B = np.array([[1,2],[0,-2],[1,0]])\n",
    "\n",
    "C = matrix_multiply(A, B)\n",
    "\n",
    "print(\"AB:\")\n",
    "print(C)\n",
    "\n",
    "D = matrix_multiply(B, A)\n",
    "\n",
    "print(\"BA:\")\n",
    "print(D)"
   ]
  }
 ],
 "metadata": {
  "kernelspec": {
   "display_name": "Python 3 (ipykernel)",
   "language": "python",
   "name": "python3"
  },
  "language_info": {
   "codemirror_mode": {
    "name": "ipython",
    "version": 3
   },
   "file_extension": ".py",
   "mimetype": "text/x-python",
   "name": "python",
   "nbconvert_exporter": "python",
   "pygments_lexer": "ipython3",
   "version": "3.9.13"
  }
 },
 "nbformat": 4,
 "nbformat_minor": 5
}
